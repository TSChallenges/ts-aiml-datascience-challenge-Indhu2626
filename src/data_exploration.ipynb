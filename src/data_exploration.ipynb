{
 "cells": [
  {
   "cell_type": "code",
   "execution_count": null,
   "id": "8bbc10b6",
   "metadata": {
    "scrolled": true
   },
   "outputs": [
    {
     "ename": "AttributeError",
     "evalue": "'function' object has no attribute 'isnull'",
     "output_type": "error",
     "traceback": [
      "\u001b[0;31m---------------------------------------------------------------------------\u001b[0m",
      "\u001b[0;31mAttributeError\u001b[0m                            Traceback (most recent call last)",
      "Cell \u001b[0;32mIn[3], line 68\u001b[0m\n\u001b[1;32m     65\u001b[0m     visualize_distributions(df)\n\u001b[1;32m     67\u001b[0m \u001b[38;5;28;01mif\u001b[39;00m \u001b[38;5;18m__name__\u001b[39m \u001b[38;5;241m==\u001b[39m \u001b[38;5;124m\"\u001b[39m\u001b[38;5;124m__main__\u001b[39m\u001b[38;5;124m\"\u001b[39m:\n\u001b[0;32m---> 68\u001b[0m     \u001b[43mmain\u001b[49m\u001b[43m(\u001b[49m\u001b[43m)\u001b[49m\n",
      "Cell \u001b[0;32mIn[3], line 59\u001b[0m, in \u001b[0;36mmain\u001b[0;34m()\u001b[0m\n\u001b[1;32m     56\u001b[0m df \u001b[38;5;241m=\u001b[39m load_data(\u001b[38;5;124m\"\u001b[39m\u001b[38;5;124m/workspaces/ts-aiml-datascience-challenge-Indhu2626/data/bank_churn.csv\u001b[39m\u001b[38;5;124m\"\u001b[39m)\n\u001b[1;32m     58\u001b[0m \u001b[38;5;66;03m# Check for missing values\u001b[39;00m\n\u001b[0;32m---> 59\u001b[0m \u001b[43mcheck_missing_values\u001b[49m\u001b[43m(\u001b[49m\u001b[43mdf\u001b[49m\u001b[43m)\u001b[49m\n\u001b[1;32m     61\u001b[0m \u001b[38;5;66;03m# Generate summary statistics\u001b[39;00m\n\u001b[1;32m     62\u001b[0m generate_summary_statistics(df)\n",
      "Cell \u001b[0;32mIn[3], line 19\u001b[0m, in \u001b[0;36mcheck_missing_values\u001b[0;34m(df)\u001b[0m\n\u001b[1;32m     15\u001b[0m \u001b[38;5;28;01mdef\u001b[39;00m \u001b[38;5;21mcheck_missing_values\u001b[39m(df):\n\u001b[1;32m     16\u001b[0m \u001b[38;5;250m    \u001b[39m\u001b[38;5;124;03m\"\"\"\u001b[39;00m\n\u001b[1;32m     17\u001b[0m \u001b[38;5;124;03m    Check for missing values in the DataFrame.\u001b[39;00m\n\u001b[1;32m     18\u001b[0m \u001b[38;5;124;03m    \"\"\"\u001b[39;00m\n\u001b[0;32m---> 19\u001b[0m     missing \u001b[38;5;241m=\u001b[39m \u001b[43mdf\u001b[49m\u001b[38;5;241;43m.\u001b[39;49m\u001b[43misnull\u001b[49m()\u001b[38;5;241m.\u001b[39msum()\u001b[38;5;66;03m#todo\u001b[39;00m\n\u001b[1;32m     20\u001b[0m     \u001b[38;5;28mprint\u001b[39m(\u001b[38;5;124m\"\u001b[39m\u001b[38;5;124mMissing Values:\u001b[39m\u001b[38;5;130;01m\\n\u001b[39;00m\u001b[38;5;124m\"\u001b[39m, missing)\n",
      "\u001b[0;31mAttributeError\u001b[0m: 'function' object has no attribute 'isnull'"
     ]
    }
   ],
   "source": [
    "import pandas as pd\n",
    "import seaborn as sns\n",
    "import numpy as np\n",
    "import matplotlib.pyplot as plt         #  importing some basic libraries to work with the dataset and for visualization\n",
    "\n",
    "\n",
    "\n",
    "def load_data(filepath):\n",
    "    \"\"\"\n",
    "    Load the dataset into a pandas DataFrame.\n",
    "    \"\"\"\n",
    "    df = pd.read_csv(filepath)#todo\n",
    "    return df\n",
    "\n",
    "def check_missing_values(df):\n",
    "    \"\"\"\n",
    "    Check for missing values in the DataFrame.\n",
    "    \"\"\"\n",
    "    missing = df.isnull().sum()#todo\n",
    "    print(\"Missing Values:\\n\", missing)\n",
    "\n",
    "def generate_summary_statistics(df):\n",
    "    \"\"\"\n",
    "    Generate summary statistics for key variables.\n",
    "    \"\"\"\n",
    "    summary = df.describe()#todo hint: pd.DataFrame().describe()\n",
    "    print(\"Summary Statistics:\\n\", summary)\n",
    "\n",
    "def visualize_distributions(df):\n",
    "    \"\"\"\n",
    "    Visualize distributions of age, balance, credit_score, and estimated_salary.\n",
    "    \n",
    "    Hint: use sns.histplot() \n",
    "    \"\"\"\n",
    "    fig, axes = plt.subplots(2,2,figsize=(14,10))\n",
    "    fig.suptitle(\"Distribution\")\n",
    "\n",
    "    sns.histplot(df['age'],kde=True,ax=axes[0,0],color = \"skyblue\")\n",
    "    axes[0,0].set_title(\"age\")\n",
    "\n",
    "    sns.histplot(df['balance'],kde=True,ax=axes[0,0],color = \"skyblue\")\n",
    "    axes[0,1].set_title(\"balance\")\n",
    "\n",
    "    sns.histplot(df['credit_score'],kde=True,ax=axes[0,0],color = \"skyblue\")\n",
    "    axes[1,0].set_title(\"credit_score\")\n",
    "\n",
    "    sns.histplot(df['estimated_salary'],kde=True,ax=axes[0,0],color = \"skyblue\")\n",
    "    axes[1,1].set_title(\"estimated_salary\")\n",
    "    #todo\n",
    "    \n",
    "    plt.tight_layout(rect=[0,0.03,1,0.95])\n",
    "    plt.show()\n",
    "\n",
    "def main():\n",
    "    # Load data\n",
    "    df = load_data(\"/workspaces/ts-aiml-datascience-challenge-Indhu2626/data/bank_churn.csv\")\n",
    "\n",
    "    # Check for missing values\n",
    "    check_missing_values(df)\n",
    "    \n",
    "    # Generate summary statistics\n",
    "    generate_summary_statistics(df)\n",
    "    \n",
    "    # Visualize distributions\n",
    "    visualize_distributions(df)\n",
    "\n",
    "if __name__ == \"__main__\":\n",
    "    main()\n"
   ]
  },
  {
   "cell_type": "code",
   "execution_count": null,
   "id": "1e9c3a03",
   "metadata": {},
   "outputs": [],
   "source": []
  }
 ],
 "metadata": {
  "kernelspec": {
   "display_name": "Python 3",
   "language": "python",
   "name": "python3"
  },
  "language_info": {
   "codemirror_mode": {
    "name": "ipython",
    "version": 3
   },
   "file_extension": ".py",
   "mimetype": "text/x-python",
   "name": "python",
   "nbconvert_exporter": "python",
   "pygments_lexer": "ipython3",
   "version": "3.12.1"
  }
 },
 "nbformat": 4,
 "nbformat_minor": 5
}
